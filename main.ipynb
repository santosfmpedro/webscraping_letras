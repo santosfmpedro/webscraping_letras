{
 "cells": [
  {
   "cell_type": "code",
   "execution_count": 1,
   "metadata": {},
   "outputs": [],
   "source": [
    "import requests\n",
    "import pandas as pd\n",
    "from bs4 import BeautifulSoup"
   ]
  },
  {
   "cell_type": "code",
   "execution_count": 79,
   "metadata": {},
   "outputs": [
    {
     "name": "stdout",
     "output_type": "stream",
     "text": [
      "The status code is  200\n"
     ]
    }
   ],
   "source": [
    "res = requests.get('https://www.letras.mus.br/black-veil-brides/1407679/')\n",
    "print(\"The status code is \", res.status_code)\n",
    "soup_data = BeautifulSoup(res.text, 'html.parser')\n",
    "\n",
    "header = soup_data.select(\"div[class='cnt-head cnt-head--l']\") \n",
    "all_lyric = soup_data.select(\"div[class='cnt-letra']\") \n"
   ]
  },
  {
   "cell_type": "code",
   "execution_count": 129,
   "metadata": {},
   "outputs": [
    {
     "name": "stdout",
     "output_type": "stream",
     "text": [
      "Song: A Devil For Me\n",
      "Artist: Black Veil Brides\n",
      "Views:  81.214\n",
      "\n",
      "\n",
      "Lyric: \n",
      "\n",
      "Number of verses: 6 \n",
      "\n",
      "Well now is the time to say your prayers\n",
      "And now is the time to show your stuff\n",
      "'Cause people talk but people separate\n",
      "It's the same damn excuse when danger is headed your way\n",
      "\n",
      "\n",
      "You talk the talk but do you walk the walk?\n",
      "Your apathy is just a living flaw\n",
      "You pull the trigger count 1, 2, 3\n",
      "It's a finger flip for you\n",
      "And a devil for me\n",
      "\n",
      "\n",
      "A wedding of the damned\n",
      "This razor cuts the pain right out\n",
      "We're bound until the end\n",
      "My love\n",
      "\n",
      "\n",
      "You acted first you could have walked away\n",
      "With broken parts and things you can't replace\n",
      "You pull the trigger count 1, 2, 3\n",
      "It's an antichrist for you\n",
      "Fallen angel for me\n",
      "\n",
      "\n",
      "A wedding of the damned\n",
      "This razor cuts the pain right out\n",
      "We're bound until the end\n",
      "My love\n",
      "\n",
      "\n",
      "A wedding of the damned\n",
      "This razor cuts the pain right out\n",
      "We're bound until the end\n",
      "My love\n",
      "\n",
      "\n"
     ]
    }
   ],
   "source": [
    "for th in header:\n",
    "    artist = th.find('span').text\n",
    "    views = th.find(\"b\").text\n",
    "    name_song = th.find(\"h1\").text\n",
    "    #print(th.find_all())    \n",
    "    print(f'Song: {name_song}')\n",
    "    print(f'Artist: {artist}')\n",
    "    print(f'Views: {views}')\n",
    "\n",
    "    print('/n')\n",
    "    print('Lyric: /n')\n",
    "\n",
    "for i in all_lyric:\n",
    "    verses = i.find_all(\"p\")\n",
    "    n = len(verses)\n",
    "    print(f\"Number of verses: {n} /n\")\n",
    "    for j in verses:\n",
    "        verse = j.get_text(strip=True, separator= '/n').splitlines()\n",
    "        for z in verse:\n",
    "            print(z)\n",
    "        print('/n')\n"
   ]
  },
  {
   "cell_type": "code",
   "execution_count": 12,
   "metadata": {},
   "outputs": [],
   "source": [
    "import pandas as pd"
   ]
  },
  {
   "cell_type": "code",
   "execution_count": null,
   "metadata": {},
   "outputs": [],
   "source": [
    "def read_genres(folder):\n",
    "    pd.read_csv()"
   ]
  },
  {
   "cell_type": "code",
   "execution_count": 5,
   "metadata": {},
   "outputs": [],
   "source": [
    "artist = 'avioes-do-forro'\n",
    "genre = 'forro'\n",
    "local_artists = 'E:/coding/github/webscraping_letras/data/raw/artists'\n",
    "local_songs = 'E:/coding/github/webscraping_letras/data/raw/songs'"
   ]
  },
  {
   "cell_type": "code",
   "execution_count": 3,
   "metadata": {},
   "outputs": [],
   "source": [
    "def find_songs_from_artist(artist):\n",
    "    res = requests.get(f'https://www.letras.mus.br/{artist}/')\n",
    "    print(\"The status code is \", res.status_code)\n",
    "    soup_data = BeautifulSoup(res.text, 'html.parser')\n",
    "    songs = soup_data.select(\"a[class='song-name']\")\n",
    "\n",
    "    href_songs = []\n",
    "    for i in songs:\n",
    "        href = i['href']\n",
    "        href_songs.append(href)\n",
    "\n",
    "    return(href_songs)"
   ]
  },
  {
   "cell_type": "code",
   "execution_count": 6,
   "metadata": {},
   "outputs": [
    {
     "name": "stdout",
     "output_type": "stream",
     "text": [
      "The status code is  200\n"
     ]
    }
   ],
   "source": [
    "songs = find_songs_from_artist(artist)"
   ]
  },
  {
   "cell_type": "code",
   "execution_count": 7,
   "metadata": {},
   "outputs": [],
   "source": [
    "import save_letras as sl"
   ]
  },
  {
   "cell_type": "code",
   "execution_count": 11,
   "metadata": {},
   "outputs": [
    {
     "name": "stdout",
     "output_type": "stream",
     "text": [
      "E:/coding/github/webscraping_letras/data/raw/songs/forro/avioes-do-forro saved!\n"
     ]
    }
   ],
   "source": [
    "sl.save_songs_from_artist(genre,artist,songs,local_songs)"
   ]
  },
  {
   "cell_type": "code",
   "execution_count": 138,
   "metadata": {},
   "outputs": [
    {
     "name": "stdout",
     "output_type": "stream",
     "text": [
      "Directory 'GeeksforGseeks' created\n"
     ]
    }
   ],
   "source": [
    "sl.create_dir(directory,parent_dir)"
   ]
  },
  {
   "cell_type": "code",
   "execution_count": 134,
   "metadata": {},
   "outputs": [
    {
     "name": "stdout",
     "output_type": "stream",
     "text": [
      "Directory 'GeeksforGeeks' created\n"
     ]
    }
   ],
   "source": [
    "# importing os module\n",
    "import os\n",
    "  \n",
    "  "
   ]
  },
  {
   "cell_type": "code",
   "execution_count": 162,
   "metadata": {},
   "outputs": [],
   "source": [
    "list_genres_href = []\n",
    "list_genres_clean = []\n",
    "\n",
    "for i in range(0,len(genres)):\n",
    "    genre = str(genres[i]).split('\"')[1] + 'artistas.html'\n",
    "    genre_clean = str(genres[i]).replace('<b>','').replace('</b>','').split('>')[1].split('<')[0] \n",
    "    list_genres_href.append(genre)\n",
    "    list_genres_clean.append(genre_clean)"
   ]
  },
  {
   "cell_type": "code",
   "execution_count": 163,
   "metadata": {},
   "outputs": [],
   "source": [
    "genres_df = pd.DataFrame({'hrefs': list_genres_href, 'genres': list_genres_clean})"
   ]
  },
  {
   "cell_type": "code",
   "execution_count": 164,
   "metadata": {},
   "outputs": [
    {
     "data": {
      "text/plain": [
       "'/estilos/alternativo/artistas.html'"
      ]
     },
     "execution_count": 164,
     "metadata": {},
     "output_type": "execute_result"
    }
   ],
   "source": [
    "genres_df['hrefs'][0]"
   ]
  }
 ],
 "metadata": {
  "kernelspec": {
   "display_name": "Python 3.10.7 64-bit",
   "language": "python",
   "name": "python3"
  },
  "language_info": {
   "codemirror_mode": {
    "name": "ipython",
    "version": 3
   },
   "file_extension": ".py",
   "mimetype": "text/x-python",
   "name": "python",
   "nbconvert_exporter": "python",
   "pygments_lexer": "ipython3",
   "version": "3.10.9"
  },
  "orig_nbformat": 4,
  "vscode": {
   "interpreter": {
    "hash": "767d51c1340bd893661ea55ea3124f6de3c7a262a8b4abca0554b478b1e2ff90"
   }
  }
 },
 "nbformat": 4,
 "nbformat_minor": 2
}
