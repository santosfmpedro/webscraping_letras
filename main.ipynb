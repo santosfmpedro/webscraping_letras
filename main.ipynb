{
 "cells": [
  {
   "cell_type": "code",
   "execution_count": 3,
   "metadata": {},
   "outputs": [],
   "source": [
    "import requests\n",
    "import pandas as pd"
   ]
  },
  {
   "cell_type": "code",
   "execution_count": 4,
   "metadata": {},
   "outputs": [
    {
     "name": "stdout",
     "output_type": "stream",
     "text": [
      "The status code is  200\n",
      "\n",
      "\n",
      "<title>Estilos musicais - LETRAS.MUS.BR</title>\n",
      "\n",
      "\n",
      "[<a href=\"/estilos/alternativo/\"><b>Alternativo</b></a>, <a href=\"/estilos/axe/\">Axé</a>, <a href=\"/estilos/blues/\">Blues</a>, <a href=\"/estilos/bolero/\">Bolero</a>, <a href=\"/estilos/bossa-nova/\">Bossa Nova</a>, <a href=\"/estilos/brega/\">Brega</a>, <a href=\"/estilos/classico/\">Clássico</a>, <a href=\"/estilos/country/\">Country</a>, <a href=\"/estilos/cuarteto/\">Cuarteto</a>, <a href=\"/estilos/cumbia/\">Cumbia</a>, <a href=\"/estilos/dance/\">Dance</a>, <a href=\"/estilos/disco/\">Disco</a>, <a href=\"/estilos/eletronica/\">Eletrônica</a>, <a href=\"/estilos/emocore/\">Emocore</a>, <a href=\"/estilos/fado/\">Fado</a>, <a href=\"/estilos/folk/\">Folk</a>, <a href=\"/estilos/forro/\">Forró</a>, <a href=\"/estilos/funk/\">Funk</a>, <a href=\"/estilos/funk-internacional/\">Funk Internacional</a>, <a href=\"/estilos/gospelreligioso/\"><b>Gospel/Religioso</b></a>, <a href=\"/estilos/grunge/\">Grunge</a>, <a href=\"/estilos/guarania/\">Guarânia</a>, <a href=\"/estilos/gotico/\">Gótico</a>, <a href=\"/estilos/hard-rock/\">Hard Rock</a>, <a href=\"/estilos/hardcore/\">Hardcore</a>, <a href=\"/estilos/heavy-metal/\">Heavy Metal</a>, <a href=\"/estilos/hip-hop-rap/\"><b>Hip Hop/Rap</b></a>, <a href=\"/estilos/house/\">House</a>, <a href=\"/estilos/indie/\"><b>Indie</b></a>, <a href=\"/estilos/industrial/\">Industrial</a>, <a href=\"/estilos/infantil/\">Infantil</a>, <a href=\"/estilos/instrumental/\">Instrumental</a>, <a href=\"/estilos/j-popj-rock/\">J-Pop/J-Rock</a>, <a href=\"/estilos/jazz/\">Jazz</a>, <a href=\"/estilos/jovem-guarda/\">Jovem Guarda</a>, <a href=\"/estilos/k-pop/\">K-Pop</a>, <a href=\"/estilos/mpb/\">MPB</a>, <a href=\"/estilos/mambo/\">Mambo</a>, <a href=\"/estilos/marchas-hinos/\">Marchas/Hinos</a>, <a href=\"/estilos/mariachi/\">Mariachi</a>, <a href=\"/estilos/merengue/\">Merengue</a>, <a href=\"/estilos/musica-andina/\">Música andina</a>, <a href=\"/estilos/new-age/\">New Age</a>, <a href=\"/estilos/new-wave/\">New Wave</a>, <a href=\"/estilos/pagode/\">Pagode</a>, <a href=\"/estilos/pop/\"><b>Pop</b></a>, <a href=\"/estilos/poprock/\"><b>Pop Rock</b></a>, <a href=\"/estilos/post-rock/\">Post-Rock</a>, <a href=\"/estilos/power-pop/\">Power-Pop</a>, <a href=\"/estilos/psicodelia/\">Psicodelia</a>, <a href=\"/estilos/punk-rock/\">Punk Rock</a>, <a href=\"/estilos/rb/\">R&amp;B</a>, <a href=\"/estilos/ranchera/\">Ranchera</a>, <a href=\"/estilos/reggae/\">Reggae</a>, <a href=\"/estilos/reggaeton/\">Reggaeton</a>, <a href=\"/estilos/regional/\">Regional</a>, <a href=\"/estilos/rock/\"><b>Rock</b></a>, <a href=\"/estilos/progressivo/\">Rock Progressivo</a>, <a href=\"/estilos/rock-roll/\"><b>Rock and Roll</b></a>, <a href=\"/estilos/rockabilly/\">Rockabilly</a>, <a href=\"/estilos/romantico/\"><b>Romântico</b></a>, <a href=\"/estilos/salsa/\">Salsa</a>, <a href=\"/estilos/samba/\">Samba</a>, <a href=\"/estilos/samba-enredo/\">Samba Enredo</a>, <a href=\"/estilos/sertanejo/\"><b>Sertanejo</b></a>, <a href=\"/estilos/ska/\">Ska</a>, <a href=\"/estilos/soft-rock/\">Soft Rock</a>, <a href=\"/estilos/soul/\">Soul</a>, <a href=\"/estilos/surf-music/\">Surf Music</a>, <a href=\"/estilos/tango/\">Tango</a>, <a href=\"/estilos/tecnopop/\">Tecnopop</a>, <a href=\"/estilos/trova/\">Trova</a>, <a href=\"/estilos/velha-guarda/\">Velha Guarda</a>, <a href=\"/estilos/world-music/\">World Music</a>, <a href=\"/estilos/zamba/\">Zamba</a>, <a href=\"/estilos/zouk/\">Zouk</a>, <a data-tab=\"menu-musicalStyles\" href=\"/estilos/\">Estilos musicais</a>]\n"
     ]
    }
   ],
   "source": [
    "import requests\n",
    "from bs4 import BeautifulSoup\n",
    "res = requests.get('https://www.letras.mus.br/estilos/')\n",
    "print(\"The status code is \", res.status_code)\n",
    "print(\"\\n\")\n",
    "soup_data = BeautifulSoup(res.text, 'html.parser')\n",
    "print(soup_data.title)\n",
    "print(\"\\n\")\n",
    "print(soup_data.select(\"a[href^='/estilos/']\"))#.find_all('a'))"
   ]
  },
  {
   "cell_type": "code",
   "execution_count": 5,
   "metadata": {},
   "outputs": [],
   "source": [
    "genres = soup_data.select(\"a[href^='/estilos/']\") "
   ]
  },
  {
   "cell_type": "code",
   "execution_count": 17,
   "metadata": {},
   "outputs": [
    {
     "name": "stdout",
     "output_type": "stream",
     "text": [
      "/estilos/alternativo/\n",
      "/estilos/axe/\n",
      "/estilos/blues/\n",
      "/estilos/bolero/\n",
      "/estilos/bossa-nova/\n",
      "/estilos/brega/\n",
      "/estilos/classico/\n",
      "/estilos/country/\n",
      "/estilos/cuarteto/\n",
      "/estilos/cumbia/\n",
      "/estilos/dance/\n",
      "/estilos/disco/\n",
      "/estilos/eletronica/\n",
      "/estilos/emocore/\n",
      "/estilos/fado/\n",
      "/estilos/folk/\n",
      "/estilos/forro/\n",
      "/estilos/funk/\n",
      "/estilos/funk-internacional/\n",
      "/estilos/gospelreligioso/\n",
      "/estilos/grunge/\n",
      "/estilos/guarania/\n",
      "/estilos/gotico/\n",
      "/estilos/hard-rock/\n",
      "/estilos/hardcore/\n",
      "/estilos/heavy-metal/\n",
      "/estilos/hip-hop-rap/\n",
      "/estilos/house/\n",
      "/estilos/indie/\n",
      "/estilos/industrial/\n",
      "/estilos/infantil/\n",
      "/estilos/instrumental/\n",
      "/estilos/j-popj-rock/\n",
      "/estilos/jazz/\n",
      "/estilos/jovem-guarda/\n",
      "/estilos/k-pop/\n",
      "/estilos/mpb/\n",
      "/estilos/mambo/\n",
      "/estilos/marchas-hinos/\n",
      "/estilos/mariachi/\n",
      "/estilos/merengue/\n",
      "/estilos/musica-andina/\n",
      "/estilos/new-age/\n",
      "/estilos/new-wave/\n",
      "/estilos/pagode/\n",
      "/estilos/pop/\n",
      "/estilos/poprock/\n",
      "/estilos/post-rock/\n",
      "/estilos/power-pop/\n",
      "/estilos/psicodelia/\n",
      "/estilos/punk-rock/\n",
      "/estilos/rb/\n",
      "/estilos/ranchera/\n",
      "/estilos/reggae/\n",
      "/estilos/reggaeton/\n",
      "/estilos/regional/\n",
      "/estilos/rock/\n",
      "/estilos/progressivo/\n",
      "/estilos/rock-roll/\n",
      "/estilos/rockabilly/\n",
      "/estilos/romantico/\n",
      "/estilos/salsa/\n",
      "/estilos/samba/\n",
      "/estilos/samba-enredo/\n",
      "/estilos/sertanejo/\n",
      "/estilos/ska/\n",
      "/estilos/soft-rock/\n",
      "/estilos/soul/\n",
      "/estilos/surf-music/\n",
      "/estilos/tango/\n",
      "/estilos/tecnopop/\n",
      "/estilos/trova/\n",
      "/estilos/velha-guarda/\n",
      "/estilos/world-music/\n",
      "/estilos/zamba/\n",
      "/estilos/zouk/\n",
      "/estilos/\n"
     ]
    }
   ],
   "source": [
    "for i in genres:\n",
    "    print(i['href'])"
   ]
  },
  {
   "cell_type": "code",
   "execution_count": null,
   "metadata": {},
   "outputs": [],
   "source": [
    "import playwr"
   ]
  },
  {
   "cell_type": "code",
   "execution_count": 18,
   "metadata": {},
   "outputs": [
    {
     "name": "stdout",
     "output_type": "stream",
     "text": [
      "<a href=\"/estilos/alternativo/\"><b>Alternativo</b></a>\n",
      "<a href=\"/estilos/axe/\">Axé</a>\n",
      "<a href=\"/estilos/blues/\">Blues</a>\n",
      "<a href=\"/estilos/bolero/\">Bolero</a>\n",
      "<a href=\"/estilos/bossa-nova/\">Bossa Nova</a>\n",
      "<a href=\"/estilos/brega/\">Brega</a>\n",
      "<a href=\"/estilos/classico/\">Clássico</a>\n",
      "<a href=\"/estilos/country/\">Country</a>\n",
      "<a href=\"/estilos/cuarteto/\">Cuarteto</a>\n",
      "<a href=\"/estilos/cumbia/\">Cumbia</a>\n",
      "<a href=\"/estilos/dance/\">Dance</a>\n",
      "<a href=\"/estilos/disco/\">Disco</a>\n",
      "<a href=\"/estilos/eletronica/\">Eletrônica</a>\n",
      "<a href=\"/estilos/emocore/\">Emocore</a>\n",
      "<a href=\"/estilos/fado/\">Fado</a>\n",
      "<a href=\"/estilos/folk/\">Folk</a>\n",
      "<a href=\"/estilos/forro/\">Forró</a>\n",
      "<a href=\"/estilos/funk/\">Funk</a>\n",
      "<a href=\"/estilos/funk-internacional/\">Funk Internacional</a>\n",
      "<a href=\"/estilos/gospelreligioso/\"><b>Gospel/Religioso</b></a>\n",
      "<a href=\"/estilos/grunge/\">Grunge</a>\n",
      "<a href=\"/estilos/guarania/\">Guarânia</a>\n",
      "<a href=\"/estilos/gotico/\">Gótico</a>\n",
      "<a href=\"/estilos/hard-rock/\">Hard Rock</a>\n",
      "<a href=\"/estilos/hardcore/\">Hardcore</a>\n",
      "<a href=\"/estilos/heavy-metal/\">Heavy Metal</a>\n",
      "<a href=\"/estilos/hip-hop-rap/\"><b>Hip Hop/Rap</b></a>\n",
      "<a href=\"/estilos/house/\">House</a>\n",
      "<a href=\"/estilos/indie/\"><b>Indie</b></a>\n",
      "<a href=\"/estilos/industrial/\">Industrial</a>\n",
      "<a href=\"/estilos/infantil/\">Infantil</a>\n",
      "<a href=\"/estilos/instrumental/\">Instrumental</a>\n",
      "<a href=\"/estilos/j-popj-rock/\">J-Pop/J-Rock</a>\n",
      "<a href=\"/estilos/jazz/\">Jazz</a>\n",
      "<a href=\"/estilos/jovem-guarda/\">Jovem Guarda</a>\n",
      "<a href=\"/estilos/k-pop/\">K-Pop</a>\n",
      "<a href=\"/estilos/mpb/\">MPB</a>\n",
      "<a href=\"/estilos/mambo/\">Mambo</a>\n",
      "<a href=\"/estilos/marchas-hinos/\">Marchas/Hinos</a>\n",
      "<a href=\"/estilos/mariachi/\">Mariachi</a>\n",
      "<a href=\"/estilos/merengue/\">Merengue</a>\n",
      "<a href=\"/estilos/musica-andina/\">Música andina</a>\n",
      "<a href=\"/estilos/new-age/\">New Age</a>\n",
      "<a href=\"/estilos/new-wave/\">New Wave</a>\n",
      "<a href=\"/estilos/pagode/\">Pagode</a>\n",
      "<a href=\"/estilos/pop/\"><b>Pop</b></a>\n",
      "<a href=\"/estilos/poprock/\"><b>Pop Rock</b></a>\n",
      "<a href=\"/estilos/post-rock/\">Post-Rock</a>\n",
      "<a href=\"/estilos/power-pop/\">Power-Pop</a>\n",
      "<a href=\"/estilos/psicodelia/\">Psicodelia</a>\n",
      "<a href=\"/estilos/punk-rock/\">Punk Rock</a>\n",
      "<a href=\"/estilos/rb/\">R&amp;B</a>\n",
      "<a href=\"/estilos/ranchera/\">Ranchera</a>\n",
      "<a href=\"/estilos/reggae/\">Reggae</a>\n",
      "<a href=\"/estilos/reggaeton/\">Reggaeton</a>\n",
      "<a href=\"/estilos/regional/\">Regional</a>\n",
      "<a href=\"/estilos/rock/\"><b>Rock</b></a>\n",
      "<a href=\"/estilos/progressivo/\">Rock Progressivo</a>\n",
      "<a href=\"/estilos/rock-roll/\"><b>Rock and Roll</b></a>\n",
      "<a href=\"/estilos/rockabilly/\">Rockabilly</a>\n",
      "<a href=\"/estilos/romantico/\"><b>Romântico</b></a>\n",
      "<a href=\"/estilos/salsa/\">Salsa</a>\n",
      "<a href=\"/estilos/samba/\">Samba</a>\n",
      "<a href=\"/estilos/samba-enredo/\">Samba Enredo</a>\n",
      "<a href=\"/estilos/sertanejo/\"><b>Sertanejo</b></a>\n",
      "<a href=\"/estilos/ska/\">Ska</a>\n",
      "<a href=\"/estilos/soft-rock/\">Soft Rock</a>\n",
      "<a href=\"/estilos/soul/\">Soul</a>\n",
      "<a href=\"/estilos/surf-music/\">Surf Music</a>\n",
      "<a href=\"/estilos/tango/\">Tango</a>\n",
      "<a href=\"/estilos/tecnopop/\">Tecnopop</a>\n",
      "<a href=\"/estilos/trova/\">Trova</a>\n",
      "<a href=\"/estilos/velha-guarda/\">Velha Guarda</a>\n",
      "<a href=\"/estilos/world-music/\">World Music</a>\n",
      "<a href=\"/estilos/zamba/\">Zamba</a>\n",
      "<a href=\"/estilos/zouk/\">Zouk</a>\n",
      "<a data-tab=\"menu-musicalStyles\" href=\"/estilos/\">Estilos musicais</a>\n"
     ]
    }
   ],
   "source": [
    "for i in genres:\n",
    "    print(i)"
   ]
  },
  {
   "cell_type": "code",
   "execution_count": 140,
   "metadata": {},
   "outputs": [],
   "source": [
    "genres = soup_data.select(\"a[href^='/estilos/']\")"
   ]
  },
  {
   "cell_type": "code",
   "execution_count": 162,
   "metadata": {},
   "outputs": [],
   "source": [
    "list_genres_href = []\n",
    "list_genres_clean = []\n",
    "\n",
    "for i in range(0,len(genres)):\n",
    "    genre = str(genres[i]).split('\"')[1] + 'artistas.html'\n",
    "    genre_clean = str(genres[i]).replace('<b>','').replace('</b>','').split('>')[1].split('<')[0] \n",
    "    list_genres_href.append(genre)\n",
    "    list_genres_clean.append(genre_clean)"
   ]
  },
  {
   "cell_type": "code",
   "execution_count": 163,
   "metadata": {},
   "outputs": [],
   "source": [
    "genres_df = pd.DataFrame({'hrefs': list_genres_href, 'genres': list_genres_clean})"
   ]
  },
  {
   "cell_type": "code",
   "execution_count": 164,
   "metadata": {},
   "outputs": [
    {
     "data": {
      "text/plain": [
       "'/estilos/alternativo/artistas.html'"
      ]
     },
     "execution_count": 164,
     "metadata": {},
     "output_type": "execute_result"
    }
   ],
   "source": [
    "genres_df['hrefs'][0]"
   ]
  },
  {
   "cell_type": "code",
   "execution_count": 177,
   "metadata": {},
   "outputs": [
    {
     "name": "stdout",
     "output_type": "stream",
     "text": [
      "The status code is  200\n",
      "\n",
      "\n",
      "<title>Listagem de artistas - Estilo Alternativo - LETRAS.MUS.BR</title>\n",
      "\n",
      "\n",
      "[<a href=\"/\">LETRAS.MUS.BR - Letras de músicas</a>, <a href=\"/academy/?utm_source=letras.mus.br&amp;utm_medium=top_bar&amp;utm_id=landing_page&amp;utm_content=top_bar_desktop\">Academy</a>, <a href=\"/\" itemprop=\"item\"><span itemprop=\"name\">Página Inicial</span></a>, <a href=\"/estilos/\" itemprop=\"item\"><span itemprop=\"name\">estilos</span></a>, <a href=\"/estilos/alternativo/\" itemprop=\"item\"><span itemprop=\"name\">Alternativo</span></a>, <a href=\"/red-hot-chili-peppers/\"> <img alt=\"\" data-lazy=\"\" data-original=\"https://akamai.sscdn.co/uploadfile/letras/fotos/d/e/6/8/de68d2521081ec73ba7fb0845266084f-tb.jpg\" height=\"75\" src=\"data:image/gif;base64,R0lGODlhAQABAAAAACwAAAAAAQABAAA=\" width=\"75\"/> <span> <b>Red Hot Chili Peppers</b> </span> </a>, <a href=\"/mneskin/\"> <img alt=\"\" data-lazy=\"\" data-original=\"https://akamai.sscdn.co/uploadfile/letras/fotos/1/0/5/4/10542b0ed01a58518f862a12ab8b4695-tb.jpg\" height=\"75\" src=\"data:image/gif;base64,R0lGODlhAQABAAAAACwAAAAAAQABAAA=\" width=\"75\"/> <span> <b>Måneskin</b> </span> </a>, <a href=\"/d4vd/\"> <img alt=\"\" data-lazy=\"\" data-original=\"https://akamai.sscdn.co/uploadfile/letras/fotos/e/5/6/1/e561c58d7067505a9bf7fd637dc77af6-tb.jpg\" height=\"75\" src=\"data:image/gif;base64,R0lGODlhAQABAAAAACwAAAAAAQABAAA=\" width=\"75\"/> <span> <b>d4vd</b> </span> </a>, <a href=\"/twenty-one-pilots/\"> <img alt=\"\" data-lazy=\"\" data-original=\"https://akamai.sscdn.co/uploadfile/letras/fotos/5/e/e/1/5ee17a48497980f4647bf5ae6e588a35-tb.jpg\" height=\"75\" src=\"data:image/gif;base64,R0lGODlhAQABAAAAACwAAAAAAQABAAA=\" width=\"75\"/> <span> <b>Twenty One Pilots</b> </span> </a>, <a href=\"/halsey/\"> <img alt=\"\" data-lazy=\"\" data-original=\"https://akamai.sscdn.co/uploadfile/letras/fotos/b/5/f/a/b5fa9835621196ebaa1d3a1bbb937dac-tb.jpg\" height=\"75\" src=\"data:image/gif;base64,R0lGODlhAQABAAAAACwAAAAAAQABAAA=\" width=\"75\"/> <span> <b>Halsey</b> </span> </a>, <a href=\"/radiohead/\"> <img alt=\"\" data-lazy=\"\" data-original=\"https://akamai.sscdn.co/uploadfile/letras/fotos/d/d/1/8/dd18bfeff6b98337a37deaf320a1e59a-tb.jpg\" height=\"75\" src=\"data:image/gif;base64,R0lGODlhAQABAAAAACwAAAAAAQABAAA=\" width=\"75\"/> <span> <b>Radiohead</b> </span> </a>, <a href=\"/rosa-linn/\"> <img alt=\"\" data-lazy=\"\" data-original=\"https://akamai.sscdn.co/uploadfile/letras/fotos/8/4/e/e/84eed53236c7d32aa2fd8c4f2b35552b-tb.jpg\" height=\"75\" src=\"data:image/gif;base64,R0lGODlhAQABAAAAACwAAAAAAQABAAA=\" width=\"75\"/> <span> <b>Rosa Linn</b> </span> </a>, <a href=\"/jack-johnson/\"> <img alt=\"\" data-lazy=\"\" data-original=\"https://akamai.sscdn.co/uploadfile/letras/fotos/f/9/1/1/f911b6d67b033423d127eecb93149073-tb.jpg\" height=\"75\" src=\"data:image/gif;base64,R0lGODlhAQABAAAAACwAAAAAAQABAAA=\" width=\"75\"/> <span> <b>Jack Johnson</b> </span> </a>, <a href=\"/kamaitachi/\"> <img alt=\"\" data-lazy=\"\" data-original=\"https://akamai.sscdn.co/uploadfile/letras/fotos/c/2/6/1/c2616159f794035611e60ab1560c6a93-tb.jpg\" height=\"75\" src=\"data:image/gif;base64,R0lGODlhAQABAAAAACwAAAAAAQABAAA=\" width=\"75\"/> <span> <b>k a m a i t a c h i</b> </span> </a>, <a href=\"/hozier/\"> <img alt=\"\" data-lazy=\"\" data-original=\"https://akamai.sscdn.co/uploadfile/letras/fotos/8/8/2/5/88250d5c714651827e0c2bafe06215eb-tb.jpg\" height=\"75\" src=\"data:image/gif;base64,R0lGODlhAQABAAAAACwAAAAAAQABAAA=\" width=\"75\"/> <span> <b>Hozier</b> </span> </a>, <a href=\"/the-smiths/\"> <img alt=\"\" data-lazy=\"\" data-original=\"https://akamai.sscdn.co/uploadfile/letras/fotos/1/a/5/0/1a50bd6de42dcf027a2a7b96c399072b-tb.jpg\" height=\"75\" src=\"data:image/gif;base64,R0lGODlhAQABAAAAACwAAAAAAQABAAA=\" width=\"75\"/> <span> <b>The Smiths</b> </span> </a>, <a href=\"/gorillaz/\"> <img alt=\"\" data-lazy=\"\" data-original=\"https://akamai.sscdn.co/uploadfile/letras/fotos/1/7/c/8/17c8720c6ed5a7fa733fb67dd35f4d67-tb.jpg\" height=\"75\" src=\"data:image/gif;base64,R0lGODlhAQABAAAAACwAAAAAAQABAAA=\" width=\"75\"/> <span> <b>Gorillaz</b> </span> </a>, <a href=\"/mitski/\"> <img alt=\"\" data-lazy=\"\" data-original=\"https://akamai.sscdn.co/uploadfile/letras/fotos/e/f/5/3/ef53e53ba38a297b76ee24bc71aa448f-tb.jpg\" height=\"75\" src=\"data:image/gif;base64,R0lGODlhAQABAAAAACwAAAAAAQABAAA=\" width=\"75\"/> <span> <b>Mitski</b> </span> </a>, <a href=\"/tame-impala/\"> <img alt=\"\" data-lazy=\"\" data-original=\"https://akamai.sscdn.co/uploadfile/letras/fotos/8/2/7/8/8278ec19cfe10c95d53d6398a1ec9b2d-tb.jpg\" height=\"75\" src=\"data:image/gif;base64,R0lGODlhAQABAAAAACwAAAAAAQABAAA=\" width=\"75\"/> <span> <b>Tame Impala</b> </span> </a>, <a href=\"/rem/\"> <img alt=\"\" data-lazy=\"\" data-original=\"https://akamai.sscdn.co/uploadfile/letras/fotos/c/4/2/7/c42786700f887e055cf536f7f970f8d9-tb.jpg\" height=\"75\" src=\"data:image/gif;base64,R0lGODlhAQABAAAAACwAAAAAAQABAAA=\" width=\"75\"/> <span> <b>R.E.M.</b> </span> </a>, <a href=\"/los-hermanos/\"> <img alt=\"\" data-lazy=\"\" data-original=\"https://akamai.sscdn.co/uploadfile/letras/fotos/7/7/1/5/7715900a59f6e525051b9ccb447b03c4-tb.jpg\" height=\"75\" src=\"data:image/gif;base64,R0lGODlhAQABAAAAACwAAAAAAQABAAA=\" width=\"75\"/> <span> <b>Los Hermanos</b> </span> </a>, <a href=\"/edith-whiskers/\"> <img alt=\"\" data-lazy=\"\" data-original=\"https://akamai.sscdn.co/uploadfile/letras/fotos/d/7/e/5/d7e50459afac3454c864b2c37f904dae-tb.jpg\" height=\"75\" src=\"data:image/gif;base64,R0lGODlhAQABAAAAACwAAAAAAQABAAA=\" width=\"75\"/> <span> <b>Edith Whiskers</b> </span> </a>, <a href=\"/seafret/\"> <img alt=\"\" data-lazy=\"\" data-original=\"https://akamai.sscdn.co/uploadfile/letras/fotos/e/8/2/2/e8221dd8ae5bdd0bdc42b51d4e5e46e6-tb.jpg\" height=\"75\" src=\"data:image/gif;base64,R0lGODlhAQABAAAAACwAAAAAAQABAAA=\" width=\"75\"/> <span> <b>Seafret</b> </span> </a>, <a href=\"/keane/\"> <img alt=\"\" data-lazy=\"\" data-original=\"https://akamai.sscdn.co/uploadfile/letras/fotos/5/a/2/d/5a2d092b5c8dd1a5c5477bd7a0e334f9-tb.jpg\" height=\"75\" src=\"data:image/gif;base64,R0lGODlhAQABAAAAACwAAAAAAQABAAA=\" width=\"75\"/> <span> <b>Keane</b> </span> </a>, <a href=\"/sleeping-at-last/\"> <img alt=\"\" data-lazy=\"\" data-original=\"https://akamai.sscdn.co/uploadfile/letras/fotos/c/5/1/a/c51a35f38ff255f9fce3becc5161852e-tb.jpg\" height=\"75\" src=\"data:image/gif;base64,R0lGODlhAQABAAAAACwAAAAAAQABAAA=\" width=\"75\"/> <span> <b>Sleeping At Last</b> </span> </a>, <a href=\"/mac-demarco/\"> <img alt=\"\" data-lazy=\"\" data-original=\"https://akamai.sscdn.co/uploadfile/letras/fotos/c/c/5/a/cc5a7b2a2f1f51bbc5377467b3f58f19-tb.jpg\" height=\"75\" src=\"data:image/gif;base64,R0lGODlhAQABAAAAACwAAAAAAQABAAA=\" width=\"75\"/> <span> <b>Mac DeMarco</b> </span> </a>, <a href=\"/james-young/\"> <img alt=\"\" data-lazy=\"\" data-original=\"https://akamai.sscdn.co/uploadfile/letras/fotos/5/1/7/b/517b42cb7f74dd3b26046cd066745adb-tb.jpg\" height=\"75\" src=\"data:image/gif;base64,R0lGODlhAQABAAAAACwAAAAAAQABAAA=\" width=\"75\"/> <span> <b>Jaymes Young</b> </span> </a>, <a href=\"/audioslave/\"> <img alt=\"\" data-lazy=\"\" data-original=\"https://akamai.sscdn.co/uploadfile/letras/fotos/f/b/f/c/fbfc47494f4cd4cf02102c05848b250b-tb.jpg\" height=\"75\" src=\"data:image/gif;base64,R0lGODlhAQABAAAAACwAAAAAAQABAAA=\" width=\"75\"/> <span> <b>Audioslave</b> </span> </a>, <a href=\"/4-non-blondes/\"> <img alt=\"\" data-lazy=\"\" data-original=\"https://akamai.sscdn.co/uploadfile/letras/fotos/1/1/e/3/11e3ec9d874d4892e40b6d826ed52689-tb.jpg\" height=\"75\" src=\"data:image/gif;base64,R0lGODlhAQABAAAAACwAAAAAAQABAAA=\" width=\"75\"/> <span> <b>4 Non Blondes</b> </span> </a>, <a href=\"/the-strokes/\"> <img alt=\"\" data-lazy=\"\" data-original=\"https://akamai.sscdn.co/uploadfile/letras/fotos/d/5/c/0/d5c03fa0ef49e2eaa6fe081afc8e21c6-tb.jpg\" height=\"75\" src=\"data:image/gif;base64,R0lGODlhAQABAAAAACwAAAAAAQABAAA=\" width=\"75\"/> <span> <b>The Strokes</b> </span> </a>, <a href=\"/the-killers/\"> <img alt=\"\" data-lazy=\"\" data-original=\"https://akamai.sscdn.co/uploadfile/letras/fotos/2/2/3/0/223001b504f53692023fd746908d335a-tb.jpg\" height=\"75\" src=\"data:image/gif;base64,R0lGODlhAQABAAAAACwAAAAAAQABAAA=\" width=\"75\"/> <span> <b>The Killers</b> </span> </a>, <a href=\"/glass-animals/\"> <img alt=\"\" data-lazy=\"\" data-original=\"https://akamai.sscdn.co/uploadfile/letras/fotos/9/f/f/0/9ff03c8366b23742ab6b80d2622c53f8-tb.jpg\" height=\"75\" src=\"data:image/gif;base64,R0lGODlhAQABAAAAACwAAAAAAQABAAA=\" width=\"75\"/> <span> <b>Glass Animals</b> </span> </a>, <a href=\"/kings-of-leon/\"> <img alt=\"\" data-lazy=\"\" data-original=\"https://akamai.sscdn.co/uploadfile/letras/fotos/6/8/f/a/68fad65320335f34a85f1ee56545de02-tb.jpg\" height=\"75\" src=\"data:image/gif;base64,R0lGODlhAQABAAAAACwAAAAAAQABAAA=\" width=\"75\"/> <span> <b>Kings Of Leon</b> </span> </a>, <a href=\"/girl-in-red/\"> <img alt=\"\" data-lazy=\"\" data-original=\"https://akamai.sscdn.co/uploadfile/letras/fotos/9/1/b/c/91bc629a327994daa975ab1bb619281a-tb.jpg\" height=\"75\" src=\"data:image/gif;base64,R0lGODlhAQABAAAAACwAAAAAAQABAAA=\" width=\"75\"/> <span> <b>girl in red</b> </span> </a>, <a href=\"/muse/\"> <img alt=\"\" data-lazy=\"\" data-original=\"https://akamai.sscdn.co/uploadfile/letras/fotos/b/9/c/6/b9c663834bfaa66bfc81ab2ac754a628-tb.jpg\" height=\"75\" src=\"data:image/gif;base64,R0lGODlhAQABAAAAACwAAAAAAQABAAA=\" width=\"75\"/> <span> <b>Muse</b> </span> </a>, <a href=\"/kate-bush/\"> <img alt=\"\" data-lazy=\"\" data-original=\"https://akamai.sscdn.co/uploadfile/letras/fotos/2/e/1/5/2e15a0f5704f50321c4a0c7d4e93dffe-tb.jpg\" height=\"75\" src=\"data:image/gif;base64,R0lGODlhAQABAAAAACwAAAAAAQABAAA=\" width=\"75\"/> <span> <b>Kate Bush</b> </span> </a>, <a href=\"/passenger/\"> <img alt=\"\" data-lazy=\"\" data-original=\"https://akamai.sscdn.co/uploadfile/letras/fotos/d/a/d/6/dad6e03dc4384d7b611f8cc979a0392e-tb.jpg\" height=\"75\" src=\"data:image/gif;base64,R0lGODlhAQABAAAAACwAAAAAAQABAAA=\" width=\"75\"/> <span> <b>Passenger</b> </span> </a>, <a href=\"/caroline-polachek/\"> <img alt=\"\" data-lazy=\"\" data-original=\"https://akamai.sscdn.co/uploadfile/letras/fotos/6/4/f/a/64fa36a9ada3d552fb8c699dd8f38503-tb.jpg\" height=\"75\" src=\"data:image/gif;base64,R0lGODlhAQABAAAAACwAAAAAAQABAAA=\" width=\"75\"/> <span> <b>Caroline Polachek</b> </span> </a>, <a href=\"/o-teatro-magico/\"> <img alt=\"\" data-lazy=\"\" data-original=\"https://akamai.sscdn.co/uploadfile/letras/fotos/1/d/c/e/1dced14068dbcdb0f44b2648e1d51b95-tb.jpg\" height=\"75\" src=\"data:image/gif;base64,R0lGODlhAQABAAAAACwAAAAAAQABAAA=\" width=\"75\"/> <span> <b>O Teatro Mágico</b> </span> </a>, <a href=\"/the-script/\"> <img alt=\"\" data-lazy=\"\" data-original=\"https://akamai.sscdn.co/uploadfile/letras/fotos/1/2/b/a/12ba7b1923ce1a0175bff78cf4425462-tb.jpg\" height=\"75\" src=\"data:image/gif;base64,R0lGODlhAQABAAAAACwAAAAAAQABAAA=\" width=\"75\"/> <span> <b>The Script</b> </span> </a>, <a href=\"/gabrielle-aplin/\"> <img alt=\"\" data-lazy=\"\" data-original=\"https://akamai.sscdn.co/uploadfile/letras/fotos/c/3/7/e/c37edf68cfeda4199f8e9a6e1637a02a-tb.jpg\" height=\"75\" src=\"data:image/gif;base64,R0lGODlhAQABAAAAACwAAAAAAQABAAA=\" width=\"75\"/> <span> <b>Gabrielle Aplin</b> </span> </a>, <a class=\"cnt-more -noarrow -block\" href=\"#\">Ver todos os artistas do estilo Alternativo</a>, <a href=\"/letra/A/\">A</a>, <a href=\"/letra/B/\">B</a>, <a href=\"/letra/C/\">C</a>, <a href=\"/letra/D/\">D</a>, <a href=\"/letra/E/\">E</a>, <a href=\"/letra/F/\">F</a>, <a href=\"/letra/G/\">G</a>, <a href=\"/letra/H/\">H</a>, <a href=\"/letra/I/\">I</a>, <a href=\"/letra/J/\">J</a>, <a href=\"/letra/K/\">K</a>, <a href=\"/letra/L/\">L</a>, <a href=\"/letra/M/\">M</a>, <a href=\"/letra/N/\">N</a>, <a href=\"/letra/O/\">O</a>, <a href=\"/letra/P/\">P</a>, <a href=\"/letra/Q/\">Q</a>, <a href=\"/letra/R/\">R</a>, <a href=\"/letra/S/\">S</a>, <a href=\"/letra/T/\">T</a>, <a href=\"/letra/U/\">U</a>, <a href=\"/letra/V/\">V</a>, <a href=\"/letra/W/\">W</a>, <a href=\"/letra/X/\">X</a>, <a href=\"/letra/Y/\">Y</a>, <a href=\"/letra/Z/\">Z</a>, <a href=\"/letra/1/\">0/9</a>, <a href=\"/mais-acessadas/\">Top músicas</a>, <a href=\"/novidades.html\">Atualizações</a>, <a href=\"/lancamentos.html\">Lançamentos</a>, <a class=\"no_tt\" href=\"/playlists.html\">Playlists do Letras</a>, <a href=\"/mais-acessadas/\">Top Artistas</a>, <a href=\"/top-albuns/\">Top Álbuns</a>, <a href=\"/perfil_musical.html\">Crie seu perfil musical</a>, <a data-ct-action=\"Nav Enviar Album\" data-ct-label=\"Link (rodape)\" href=\"/contribuicoes/\" rel=\"nofollow\">Envie álbuns</a>, <a data-ct-action=\"Nav Enviar Letras\" data-ct-label=\"Link (rodape)\" href=\"/contribuicoes/\" rel=\"nofollow\">Envie letras</a>, <a data-ct-action=\"Nav Enviar Correcao\" data-ct-label=\"Link (rodape)\" href=\"/contribuicoes/\" rel=\"nofollow\">Correções de letras</a>, <a href=\"/faq.html\">Ajuda</a>, <a href=\"/aviso-legal.html\">Termos de uso e Política de privacidade</a>, <a href=\"/aviso-legal-academy.html\">Termos de uso do Letras Academy</a>, <a href=\"#change-consent\" onclick=\"window.__tcfapi('displayConsentUi', 2, function() {} );\">Configurações de privacidade</a>, <a href=\"/padroes-para-envios.html\">Padrões para envios</a>, <a href=\"/trabalheconosco\">Trabalhe Conosco</a>, <a class=\"footer_apps_g\" href=\"https://play.google.com/store/apps/details?id=com.studiosol.player.letras&amp;hl=pt\" rel=\"noopener\" target=\"_blank\"><i></i></a>, <a class=\"footer_apps_a\" href=\"https://itunes.apple.com/pt/app/letras.mus.br/id773347891?mt=8\" rel=\"noopener\" target=\"_blank\"><i></i></a>, <a class=\"footer_apps_ch\" href=\"/plugin/chrome/\"><i></i></a>, <a class=\"footer_follow -instagram\" href=\"https://www.instagram.com/letrasmusbr/\" rel=\"noopener\" target=\"_blank\"> <i></i> <span>Instagram</span> </a>, <a class=\"footer_follow -tiktok\" href=\"https://www.tiktok.com/@letras\" rel=\"noopener\" target=\"_blank\"> <i></i> <span>TikTok</span> </a>, <a class=\"footer_follow -youtube\" href=\"https://www.youtube.com/letrasmusbr\" rel=\"noopener\" target=\"_blank\"> <i></i> <span>YouTube</span> </a>, <a class=\"footer_follow -facebook\" href=\"https://facebook.com/letrasmusbr\" rel=\"noopener\" target=\"_blank\"> <i></i> <span>Facebook</span> </a>, <a class=\"footer_follow -twitter\" href=\"https://twitter.com/letras\" rel=\"noopener\" target=\"_blank\"> <i></i> <span>Twitter</span> </a>, <a class=\"footer_follow -pinterest\" href=\"https://br.pinterest.com/letrasmusbr\" rel=\"noopener\" target=\"_blank\"> <i></i> <span>Pinterest</span> </a>, <a class=\"footer_follow -linkedin\" href=\"https://www.linkedin.com/company/letras/\" rel=\"noopener\" target=\"_blank\"> <i></i> <span>Linkedin</span> </a>, <a class=\"footer_ss_c\" href=\"https://www.cifraclub.com.br/\">Cifra Club</a>, <a class=\"footer_ss_p\" href=\"https://www.palcomp3.com/\">Palco MP3</a>, <a class=\"footer_partners_ss\" href=\"https://www.studiosol.com.br/\" rel=\"noopener\" target=\"_blank\">Studio Sol</a>, <a class=\"on\" data-tab=\"m_musicas\" href=\"/mais-acessadas/\" id=\"js-music-tab\">Músicas</a>, <a data-tab=\"m_artistas\" href=\"/mais-acessadas/\">Artistas</a>, <a data-tab=\"m_estilos\" href=\"/estilos/\">Estilos musicais</a>, <a data-tab=\"m_playlists\" href=\"/playlists.html\">Playlists</a>, <a data-tab=\"m_dicionario\" href=\"/academy/dicionario/\">Dicionário</a>, <a data-tab=\"m_blog\" href=\"/blog/\">Blog</a>, <a data-tab=\"m_apps\" href=\"#\">Aplicativos</a>, <a data-ct-action=\"Nav Enviar Letra\" data-ct-label=\"Menu (topo)\" href=\"/contribuicoes/\" rel=\"nofollow\">Enviar letra</a>, <a class=\"mapp_m_g\" href=\"https://play.google.com/store/apps/details?id=com.studiosol.player.letras\" rel=\"noopener\" target=\"_blank\">Android</a>, <a class=\"mapp_m_a\" href=\"https://itunes.apple.com/br/app/letras.mus.br/id773347891?mt=8\" rel=\"noopener\" target=\"_blank\">iPhone</a>, <a class=\"mapp_m_w\" href=\"https://www.microsoft.com/pt-br/p/letrasmusbr/9wzdncrfj180/\" rel=\"noopener\" target=\"_blank\">Windows Phone</a>, <a class=\"mapp_d_g\" href=\"/plugin/chrome/\">Google Chrome</a>, <a class=\"mapp_d_w\" href=\"https://www.microsoft.com/pt-br/p/letrasmusbr/9wzdncrfj184/\" rel=\"noopener\" target=\"_blank\">Windows 8</a>, <a href=\"#\" id=\"js-meu-perfil\">Meu perfil</a>, <a data-ct-action=\"Nav Enviar Letra\" data-ct-label=\"Menu User (topo)\" href=\"/contribuicoes/\">Enviar letra</a>, <a href=\"#\" id=\"js-user-mensagens\">Mensagens</a>, <a href=\"https://accounts.letras.mus.br/editar/\" rel=\"noopener\" target=\"_blank\">Editar</a>, <a href=\"https://accounts.letras.mus.br/logout/\" id=\"js-logout\">Sair</a>, <a data-tab=\"u_playlists\" href=\"#\">Playlists</a>, <a data-tab=\"u_artistas\" href=\"#\">Artistas</a>, <a data-tab=\"u_albuns\" href=\"#\">Álbuns</a>, <a data-tab=\"u_notificacoes\" href=\"#\">Notificações <span class=\"js-n-n\"></span></a>, <a data-tab=\"u_amigos\" href=\"#\">Amigos pendentes <span class=\"js-fr-n\"></span></a>]\n"
     ]
    }
   ],
   "source": [
    "\n",
    "res = requests.get('https://www.letras.mus.br' + genres_df['hrefs'][0])\n",
    "print(\"The status code is \", res.status_code)\n",
    "print(\"\\n\")\n",
    "soup_data = BeautifulSoup(res.text)#, 'html.parser')\n",
    "print(soup_data.title)\n",
    "print(\"\\n\")\n",
    "print(soup_data.find_all(\"a\"))"
   ]
  }
 ],
 "metadata": {
  "kernelspec": {
   "display_name": "Python 3.10.7 64-bit",
   "language": "python",
   "name": "python3"
  },
  "language_info": {
   "codemirror_mode": {
    "name": "ipython",
    "version": 3
   },
   "file_extension": ".py",
   "mimetype": "text/x-python",
   "name": "python",
   "nbconvert_exporter": "python",
   "pygments_lexer": "ipython3",
   "version": "3.10.9"
  },
  "orig_nbformat": 4,
  "vscode": {
   "interpreter": {
    "hash": "767d51c1340bd893661ea55ea3124f6de3c7a262a8b4abca0554b478b1e2ff90"
   }
  }
 },
 "nbformat": 4,
 "nbformat_minor": 2
}
